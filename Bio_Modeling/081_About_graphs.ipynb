{
 "cells": [
  {
   "cell_type": "markdown",
   "metadata": {},
   "source": [
    "# Long-term goals\n",
    "\n",
    "* A quick reminder on what graphs are\n",
    "* Represent networks (graphs) in Python\n",
    "* Create interesting (realistic?) networks\n",
    "* Describe some of the important, or interesting properties of networks \n",
    "* A model for processes on networks"
   ]
  },
  {
   "cell_type": "code",
   "execution_count": 31,
   "metadata": {},
   "outputs": [
    {
     "data": {
      "text/plain": [
       "{1: [2, 3], 0: [1, 4]}"
      ]
     },
     "execution_count": 31,
     "metadata": {},
     "output_type": "execute_result"
    }
   ],
   "source": [
    "a = {1:[2,3], \n",
    "     0:[1,4]}\n",
    "a"
   ]
  },
  {
   "cell_type": "code",
   "execution_count": 33,
   "metadata": {},
   "outputs": [
    {
     "data": {
      "text/plain": [
       "True"
      ]
     },
     "execution_count": 33,
     "metadata": {},
     "output_type": "execute_result"
    }
   ],
   "source": [
    "0 in a"
   ]
  },
  {
   "cell_type": "code",
   "execution_count": 40,
   "metadata": {},
   "outputs": [
    {
     "name": "stdout",
     "output_type": "stream",
     "text": [
      "A graph of 7 nodes:\n",
      "0:[1, 2]\n",
      "1:[0]\n",
      "2:[0]\n",
      "3:[4]\n",
      "4:[3, 5]\n",
      "5:[4]\n",
      "7:[]\n",
      "\n"
     ]
    }
   ],
   "source": [
    "class Graph():\n",
    "    def __init__(self):\n",
    "        self.gdict = {}\n",
    "        \n",
    "    def add_node(self, node):\n",
    "        \"\"\"If node is not in a dictionary, add it.\"\"\"\n",
    "        if node not in self.gdict:\n",
    "            self.gdict[node] = []\n",
    "    \n",
    "    def add_edge(self, node1, node2):        \n",
    "        self.add_node(node1)\n",
    "        self.add_node(node2)\n",
    "        # Add node2 as a connection for node1, and the other way around\n",
    "        if node2 not in self.gdict[node1]:\n",
    "            self.gdict[node1].append(node2)\n",
    "        if node1 not in self.gdict[node2]:\n",
    "            self.gdict[node2].append(node1)\n",
    "            \n",
    "    def __str__(self):\n",
    "        out = 'A graph of ' + str(len(self.gdict)) + ' nodes:\\n'\n",
    "        for node in self.gdict:\n",
    "            out += str(node) + ':' + str(self.gdict[node]) + '\\n'\n",
    "        return out\n",
    "    \n",
    "# Test\n",
    "g = Graph()\n",
    "g.add_edge(0,1)\n",
    "g.add_edge(0,2)\n",
    "g.add_edge(3,4)\n",
    "g.add_edge(4,5)\n",
    "g.add_node(7)\n",
    "print(g)"
   ]
  }
 ],
 "metadata": {
  "kernelspec": {
   "display_name": "Python 3",
   "language": "python",
   "name": "python3"
  },
  "language_info": {
   "codemirror_mode": {
    "name": "ipython",
    "version": 3
   },
   "file_extension": ".py",
   "mimetype": "text/x-python",
   "name": "python",
   "nbconvert_exporter": "python",
   "pygments_lexer": "ipython3",
   "version": "3.7.6"
  }
 },
 "nbformat": 4,
 "nbformat_minor": 4
}
